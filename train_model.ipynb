{
 "cells": [
  {
   "cell_type": "code",
   "execution_count": 4,
   "metadata": {},
   "outputs": [],
   "source": [
    "import numpy as np\n",
    "import scipy.io.wavfile as wav\n",
    "import matplotlib.pyplot as plt\n",
    "from features_extract import mfcc_delta\n",
    "from sklearn.mixture import GaussianMixture\n",
    "from scipy.spatial.distance import euclidean"
   ]
  },
  {
   "cell_type": "code",
   "execution_count": 5,
   "metadata": {},
   "outputs": [],
   "source": [
    "vector1=mfcc_delta('sajesh1.wav')\n",
    "\n",
    "vector2=mfcc_delta('test_false.wav')\n",
    "\n",
    "vector3=mfcc_delta('Atul_1.wav')\n",
    "\n",
    "vector4=mfcc_delta('Atul_20.wav')\n",
    "\n",
    "vector5=mfcc_delta('test_2.wav')\n",
    "\n",
    "vector6=mfcc_delta('Bharti_15.wav')\n",
    "\n",
    "vector7=mfcc_delta('Aditya_16.wav')\n",
    "\n",
    "vector8=mfcc_delta('Aditya_1.wav')\n",
    "\n",
    "# with app.app_context() as ap:\n",
    "#     db.create_all()\n",
    "\n",
    "\n",
    "\n",
    "# sample width= 2. 16bits in each sample\n",
    "# channel no= 1 mono\n",
    "# sample rate or frame rate= 11025\n",
    "\n",
    "\n"
   ]
  },
  {
   "cell_type": "code",
   "execution_count": 3,
   "metadata": {
    "scrolled": false
   },
   "outputs": [
    {
     "name": "stdout",
     "output_type": "stream",
     "text": [
      "(-12.049370414879222, -10.075500675593863, -12.072176605805394, -3.5873154311520747, -12.679977390417603, -8.424180939307583, -10.76190241509265)\n"
     ]
    }
   ],
   "source": [
    "# def do_gauss(sample):\n",
    "#     sample_feat=mfcc_delta(sample)\n",
    "#     gmm = GaussianMixture(n_components = 16, covariance_type='diag',n_init = 3, max_iter=100,random_state=113)\n",
    "#     gmm.fit(sample_feat)\n",
    "#     trial=mfcc_delta('test_1.wav')\n",
    "    \n",
    "\n",
    "    \n",
    "# do_gauss('test_1.wav')\n",
    "gmm = GaussianMixture(n_components = 16, covariance_type='diag',n_init = 3, max_iter=100)\n",
    "gmm.fit(vector1)\n",
    "# # scores  =np.array(gmm.score(vector))\n",
    "scores1 = np.array(gmm.score(vector2))\n",
    "scores2 = np.array(gmm.score(vector3))\n",
    "scores3 = np.array(gmm.score(vector4))\n",
    "scores4 = np.array(gmm.score(vector5))\n",
    "scores5 = np.array(gmm.score(vector6))\n",
    "scores6 = np.array(gmm.score(vector7))\n",
    "scores7 = np.array(gmm.score(vector8))\n",
    "# # log_likelihood = scores.sum()\n",
    "log_likelihood1 = scores1.sum()\n",
    "log_likelihood2 = scores2.sum()\n",
    "log_likelihood3 = scores3.sum()\n",
    "log_likelihood4 = scores4.sum()\n",
    "log_likelihood5 = scores5.sum()\n",
    "log_likelihood6 = scores6.sum()\n",
    "log_likelihood7 = scores7.sum()\n",
    "print((log_likelihood1,log_likelihood2,log_likelihood3,log_likelihood4,log_likelihood5,log_likelihood6,log_likelihood7))\n",
    "# print (gmm)\n",
    "# print(vector[:2])\n",
    "# print(vector1[:2])\n",
    "# print(euclidean(vector[0],vector1[0]))\n",
    "# print(euclidean(vector[1],vector1[1]))\n",
    "# print(euclidean(vector[2],vector1[2]))\n",
    "# print(euclidean_distances(vector[:100],vector1[:100]))\n",
    "# a=euclidean_distances(vector[:100],vector1[:100])\n",
    "# a1=euclidean_distances(vector[:100],vector2[:100])\n",
    "# b=np.diagonal(a).copy()\n",
    "# b1=np.diagonal(a1).copy()\n",
    "# euclidean(b,b1)\n",
    "\n",
    "# def dist(mfcc_chk,vector=vector):\n",
    "#     return euclidean(np.diagonal(mfcc_chk[:70]).copy(),np.diagonal(vector[:70]).copy())\n",
    "\n"
   ]
  },
  {
   "cell_type": "code",
   "execution_count": 4,
   "metadata": {},
   "outputs": [
    {
     "data": {
      "text/plain": [
       "0.5363088530357573"
      ]
     },
     "execution_count": 4,
     "metadata": {},
     "output_type": "execute_result"
    }
   ],
   "source": [
    "1.318134548943763*0.4068695820661919"
   ]
  },
  {
   "cell_type": "code",
   "execution_count": 24,
   "metadata": {},
   "outputs": [
    {
     "data": {
      "text/plain": [
       "-1.4354794926318748"
      ]
     },
     "execution_count": 24,
     "metadata": {},
     "output_type": "execute_result"
    }
   ],
   "source": [
    "-3.5281071771011447 *0.4068695820661919"
   ]
  },
  {
   "cell_type": "code",
   "execution_count": 5,
   "metadata": {},
   "outputs": [
    {
     "data": {
      "text/plain": [
       "-2.939377438443481"
      ]
     },
     "execution_count": 5,
     "metadata": {},
     "output_type": "execute_result"
    }
   ],
   "source": [
    "-4.098714212818269*0.7171462282612697"
   ]
  },
  {
   "cell_type": "code",
   "execution_count": 20,
   "metadata": {},
   "outputs": [
    {
     "name": "stdout",
     "output_type": "stream",
     "text": [
      "GaussianMixture(covariance_type='diag', init_params='kmeans', max_iter=100,\n",
      "        means_init=None, n_components=16, n_init=3, precisions_init=None,\n",
      "        random_state=None, reg_covar=1e-06, tol=0.001, verbose=0,\n",
      "        verbose_interval=10, warm_start=False, weights_init=None)\n"
     ]
    }
   ],
   "source": [
    "print(gmm)"
   ]
  },
  {
   "cell_type": "code",
   "execution_count": null,
   "metadata": {},
   "outputs": [],
   "source": []
  }
 ],
 "metadata": {
  "kernelspec": {
   "display_name": "Python 3",
   "language": "python",
   "name": "python3"
  },
  "language_info": {
   "codemirror_mode": {
    "name": "ipython",
    "version": 3
   },
   "file_extension": ".py",
   "mimetype": "text/x-python",
   "name": "python",
   "nbconvert_exporter": "python",
   "pygments_lexer": "ipython3",
   "version": "3.6.8"
  }
 },
 "nbformat": 4,
 "nbformat_minor": 2
}
